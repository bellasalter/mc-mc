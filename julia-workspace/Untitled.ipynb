{
 "cells": [
  {
   "cell_type": "code",
   "execution_count": 6,
   "id": "c2eff186-1649-403e-9904-071967632e23",
   "metadata": {},
   "outputs": [
    {
     "data": {
      "text/plain": [
       "\"/Users/bellasalter/Desktop/julia-workspace\""
      ]
     },
     "execution_count": 6,
     "metadata": {},
     "output_type": "execute_result"
    }
   ],
   "source": [
    "pwd()"
   ]
  },
  {
   "cell_type": "code",
   "execution_count": 9,
   "id": "60f96421-0f8e-4602-933b-2b37bc5821e1",
   "metadata": {},
   "outputs": [
    {
     "ename": "LoadError",
     "evalue": "IOError: readdir(\"Acor.jl-main\"): not a directory (ENOTDIR)",
     "output_type": "error",
     "traceback": [
      "IOError: readdir(\"Acor.jl-main\"): not a directory (ENOTDIR)",
      "",
      "Stacktrace:",
      " [1] top-level scope",
      "   @ In[9]:1"
     ]
    }
   ],
   "source": [
    "readdir(\"Acor.jl-main\")"
   ]
  },
  {
   "cell_type": "code",
   "execution_count": 3,
   "id": "9a8fca1d-bf11-45e7-a132-4378b266ed5d",
   "metadata": {},
   "outputs": [
    {
     "ename": "LoadError",
     "evalue": "SystemError: opening file \"/Users/bellasalter/Desktop/julia-workspace/Acor.jl-main/Acor.jl\": Not a directory",
     "output_type": "error",
     "traceback": [
      "SystemError: opening file \"/Users/bellasalter/Desktop/julia-workspace/Acor.jl-main/Acor.jl\": Not a directory",
      "",
      "Stacktrace:",
      " [1] include(fname::String)",
      "   @ Base.MainInclude ./client.jl:489",
      " [2] top-level scope",
      "   @ In[3]:1"
     ]
    }
   ],
   "source": [
    "include(\"Acor.jl-main/Acor.jl\")"
   ]
  },
  {
   "cell_type": "code",
   "execution_count": 5,
   "id": "b6b97ed5-26ba-4f3c-9510-7c1a24204ac3",
   "metadata": {},
   "outputs": [
    {
     "ename": "LoadError",
     "evalue": "IOError: readdir(\"./Acor.jl-main\"): not a directory (ENOTDIR)",
     "output_type": "error",
     "traceback": [
      "IOError: readdir(\"./Acor.jl-main\"): not a directory (ENOTDIR)",
      "",
      "Stacktrace:",
      " [1] top-level scope",
      "   @ In[5]:1"
     ]
    }
   ],
   "source": [
    "readdir(\"Acor.jl-main\")"
   ]
  },
  {
   "cell_type": "code",
   "execution_count": null,
   "id": "177db1be-6ef6-4bb2-b96f-2a6ed07c753d",
   "metadata": {},
   "outputs": [],
   "source": []
  }
 ],
 "metadata": {
  "kernelspec": {
   "display_name": "Julia 1.10.4",
   "language": "julia",
   "name": "julia-1.10"
  },
  "language_info": {
   "file_extension": ".jl",
   "mimetype": "application/julia",
   "name": "julia",
   "version": "1.10.4"
  }
 },
 "nbformat": 4,
 "nbformat_minor": 5
}
