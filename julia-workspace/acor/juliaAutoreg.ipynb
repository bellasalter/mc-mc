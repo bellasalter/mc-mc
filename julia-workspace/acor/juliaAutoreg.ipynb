{
 "cells": [
  {
   "cell_type": "code",
   "execution_count": 218,
   "id": "8f641485-7fb3-4c76-ba96-77cceb0f7de3",
   "metadata": {},
   "outputs": [
    {
     "name": "stdout",
     "output_type": "stream",
     "text": [
      "make: Nothing to be done for `all'.\n"
     ]
    },
    {
     "name": "stderr",
     "output_type": "stream",
     "text": [
      "WARNING: replacing module Acor.\n"
     ]
    }
   ],
   "source": [
    "include(\"Acor.jl\")\n",
    "include(\"generic.jl\")\n",
    "include(\"deshMethod.jl\")\n",
    "import Pkg\n",
    "using Pkg, IJulia, Dates, DataFrames, Plots\n",
    "using Distributions, Statistics, GLM, LinearAlgebra"
   ]
  },
  {
   "cell_type": "code",
   "execution_count": 219,
   "id": "5d0e375a-803c-4948-a9fd-5f9da4db35b5",
   "metadata": {},
   "outputs": [
    {
     "data": {
      "text/plain": [
       "10000-element Vector{Float64}:\n",
       "  5.674980084428475\n",
       "  3.392407127481663\n",
       "  3.922364863869984\n",
       "  6.91672519164786\n",
       "  7.628279329977709\n",
       "  5.593198329584665\n",
       "  4.276309086134731\n",
       "  2.8631763342399426\n",
       " -0.2929336715759381\n",
       "  1.1418534601205925\n",
       "  1.0776647376530457\n",
       " -5.901807126566476\n",
       " -4.05991255768196\n",
       "  ⋮\n",
       " -3.785498542541344\n",
       " -2.8620723815475992\n",
       " -4.153815486837695\n",
       " -5.160602118643634\n",
       " -2.5365157269250003\n",
       " -5.77047721790801\n",
       " -4.4891129414915705\n",
       " -1.9583741045486192\n",
       "  1.315778136362684\n",
       "  2.7224899737612107\n",
       " -0.3977550230016491\n",
       " -1.6629176852745642"
      ]
     },
     "execution_count": 219,
     "metadata": {},
     "output_type": "execute_result"
    }
   ],
   "source": [
    "# Generates the path with steps number of steps. \n",
    "# autoreg parameters\n",
    "a = 0.9\n",
    "b = 2\n",
    "steps = 10000\n",
    "\n",
    "function get_next_step(previous::Float64) \n",
    "    w = rand(Normal(0,1))\n",
    "    next_val = (a * previous) + (b * w)\n",
    "end\n",
    "\n",
    "function get_init_state() \n",
    "    init_sd = b^2 / (1-a^2)\n",
    "    init_state = rand(Normal(0,init_sd))\n",
    "end\n",
    "\n",
    "function asim(start_state, step_function, iters = 1000) \n",
    "    curr_state = start_state\n",
    "    path = Float64[]\n",
    "    for i in 1:iters \n",
    "        path = push!(path,curr_state)\n",
    "        curr_state = step_function(curr_state)\n",
    "    end\n",
    "    return path\n",
    "end\n",
    "\n",
    "start_state = get_init_state()\n",
    "visited = asim(start_state, get_next_step, steps)"
   ]
  },
  {
   "cell_type": "code",
   "execution_count": 186,
   "id": "937d1cc2-4505-41e7-9226-29008d6f6b4f",
   "metadata": {},
   "outputs": [
    {
     "name": "stdout",
     "output_type": "stream",
     "text": [
      "2.3851810946605716\n"
     ]
    },
    {
     "data": {
      "text/plain": [
       "3.0"
      ]
     },
     "execution_count": 186,
     "metadata": {},
     "output_type": "execute_result"
    }
   ],
   "source": [
    "M = sokal(calc_acfs, 5)\n",
    "println(calc_t_int(M, calc_acfs))\n",
    "exp_m = 1 + 2*(0.5/(1-0.5))\n",
    "exp_m"
   ]
  },
  {
   "cell_type": "code",
   "execution_count": 220,
   "id": "f92307ee-0bef-4d2b-9373-961cb451962b",
   "metadata": {},
   "outputs": [
    {
     "name": "stdout",
     "output_type": "stream",
     "text": [
      "0.0025532063101446887\n",
      "(mean = 0.002553206310144656, sigma = 0.01150876884900815, tau = 0.1207658678713186, status = 0)\n",
      "-0.0029318014736090443\n",
      "(mean = -0.0029318014736090378, sigma = 0.013161910367388433, tau = 0.16160955104560445, status = 0)\n",
      "-0.017501099891248362\n",
      "(mean = -0.01750109989124834, sigma = 0.010050156219114143, tau = 0.08970869535657704, status = 0)\n",
      "0.0030436658176685684\n",
      "(mean = 0.0030436658176685666, sigma = 0.012045305094996748, tau = 0.1377468479334454, status = 0)\n",
      "0.007943280277258508\n",
      "(mean = 0.007943280277258451, sigma = 0.012102592963358957, tau = 0.13739261998844654, status = 0)\n",
      "0.001266984941315424\n",
      "(mean = 0.0012669849413154213, sigma = 0.011775354430826274, tau = 0.12415397990040396, status = 0)\n",
      "0.008656868141297661\n",
      "(mean = 0.008656868141297673, sigma = 0.010450513101123902, tau = 0.10268671453653175, status = 0)\n",
      "-0.009422916309000747\n",
      "(mean = -0.009422916309000691, sigma = 0.013235982329397681, tau = 0.15846543819896794, status = 0)\n",
      "-0.013261332097258008\n",
      "(mean = -0.01326133209725802, sigma = 0.012637985039752409, tau = 0.14186248521274633, status = 0)\n",
      "-0.006021930145539259\n",
      "(mean = -0.006021930145539231, sigma = 0.013583671492438287, tau = 0.17002005643320092, status = 0)\n",
      "[0.1207658678713186, 0.16160955104560445, 0.08970869535657704, 0.1377468479334454, 0.13739261998844654, 0.12415397990040396, 0.10268671453653175, 0.15846543819896794, 0.14186248521274633, 0.17002005643320092]\n",
      "[0.19963145878536914, 0.18805452591203076, 0.1997431740685257, 0.19796394513796745, 0.18786770098970368, 0.1906033303857521, 0.19125014146566738, 0.18491577177188623, 0.19672872008478015, 0.1859724711834871]\n"
     ]
    },
    {
     "data": {
      "text/plain": [
       "0.11111111111111105"
      ]
     },
     "execution_count": 220,
     "metadata": {},
     "output_type": "execute_result"
    }
   ],
   "source": [
    "# for comparison between acor values and my values\n",
    "my_time_sokal = Float64[]\n",
    "acor_time = Float64[]\n",
    "\n",
    "a= -0.8\n",
    "for i in 1:10\n",
    "    start_state = get_init_state()\n",
    "    visited = asim(start_state, get_next_step, steps)\n",
    "    calc_acfs = c_est_series(visited)\n",
    "    println(mean(visited))\n",
    "    maxLag = 100\n",
    "    acor_sugg = Acor.acor(visited, maxLag)\n",
    "    println(acor_sugg)\n",
    "    acor_time = push!(acor_time, acor_sugg.tau)\n",
    "    M = sokal(calc_acfs, 10)\n",
    "    my_est = calc_t_int(M, calc_acfs)\n",
    "    my_time_sokal = push!(my_time_sokal, my_est)\n",
    "end\n",
    "\n",
    "true_time = 1 + 2*(a/(1-a))\n",
    "println(acor_time)\n",
    "println(my_time_sokal)\n",
    "1 + 2*((-0.8)/(1+0.8))"
   ]
  },
  {
   "cell_type": "code",
   "execution_count": 221,
   "id": "ab427bcf-8b16-46a2-b17e-f492bb1cc1b8",
   "metadata": {},
   "outputs": [
    {
     "name": "stdout",
     "output_type": "stream",
     "text": [
      "19 milliseconds\n",
      "0 milliseconds\n",
      "0 milliseconds\n",
      "0 milliseconds\n"
     ]
    }
   ],
   "source": [
    "# First, we get the simulations acfs\n",
    "poss_as = [0.5, 0.7, 0.9, 0.99]\n",
    "#poss_as = [-0.8]\n",
    "steps = 10000\n",
    "dict = Dict{String, Vector{Float64}}()\n",
    "\n",
    "for a in poss_as\n",
    "    states_visited = asim(get_init_state(), get_next_step, steps)\n",
    "    acf_df = c_est_series(states_visited)\n",
    "    dict[string(a)] = acf_df\n",
    "end\n",
    "\n",
    "old_ms = Float64[]\n",
    "new_ts = Float64[]\n",
    "ps = Int[]\n",
    "qs = Int[]\n",
    "as = Float64[]\n",
    "real_t = Float64[]\n",
    "rs = Float64[]\n",
    "results_ar1s = Vector{DataFrame}()\n",
    "poss_ps = [1, 2, 3, 4, 5]\n",
    "poss_qs = [1, 2, 3, 4, 5]\n",
    "poss_rs = [0]\n",
    "\n",
    "# Now, we do the method. \n",
    "for a in poss_as\n",
    "    acf = dict[string(a)]\n",
    "    \n",
    "    stop_search_index = findfirst(x -> x <= 0, acf)\n",
    "    \n",
    "    \n",
    "    if stop_search_index !== nothing\n",
    "        stop_search = 4 * stop_search_index\n",
    "    else\n",
    "        stop_search = length(acf)\n",
    "    end\n",
    "\n",
    "    n = 3\n",
    "    #stop_search = min(max(stop_search, 10), 500)\n",
    "    \n",
    "    y = get_log(acf)[1:stop_search]\n",
    "    x = collect(0:(stop_search-1))\n",
    "    lim = length(y)\n",
    "    \n",
    "    results_ar1 = desh_method(x, y, lim, n)\n",
    "    push!(results_ar1s, results_ar1)\n",
    "end"
   ]
  },
  {
   "cell_type": "code",
   "execution_count": 222,
   "id": "d25a7cdd-1b73-4f33-88e9-b276b9f3f388",
   "metadata": {},
   "outputs": [
    {
     "name": "stdout",
     "output_type": "stream",
     "text": [
      "0.5\n",
      "2\n",
      "1 millisecond\n",
      "0.29604411125183105\n",
      "0.7\n",
      "2\n",
      "1 millisecond\n",
      "0.2778041362762451\n",
      "0.9\n",
      "2\n",
      "1 millisecond\n",
      "0.27889299392700195\n",
      "0.99\n",
      "2\n",
      "1 millisecond\n",
      "0.2783341407775879\n"
     ]
    },
    {
     "data": {
      "text/html": [
       "<div><div style = \"float: left;\"><span>60×2 DataFrame</span></div><div style = \"float: right;\"><span style = \"font-style: italic;\">35 rows omitted</span></div><div style = \"clear: both;\"></div></div><div class = \"data-frame\" style = \"overflow-x: scroll;\"><table class = \"data-frame\" style = \"margin-bottom: 6px;\"><thead><tr class = \"header\"><th class = \"rowNumber\" style = \"font-weight: bold; text-align: right;\">Row</th><th style = \"text-align: left;\">new_ts</th><th style = \"text-align: left;\">real_t</th></tr><tr class = \"subheader headerLastRow\"><th class = \"rowNumber\" style = \"font-weight: bold; text-align: right;\"></th><th title = \"Float64\" style = \"text-align: left;\">Float64</th><th title = \"Float64\" style = \"text-align: left;\">Float64</th></tr></thead><tbody><tr><td class = \"rowNumber\" style = \"font-weight: bold; text-align: right;\">1</td><td style = \"text-align: right;\">8.27318</td><td style = \"text-align: right;\">3.0</td></tr><tr><td class = \"rowNumber\" style = \"font-weight: bold; text-align: right;\">2</td><td style = \"text-align: right;\">7.88152</td><td style = \"text-align: right;\">3.0</td></tr><tr><td class = \"rowNumber\" style = \"font-weight: bold; text-align: right;\">3</td><td style = \"text-align: right;\">5.66036</td><td style = \"text-align: right;\">3.0</td></tr><tr><td class = \"rowNumber\" style = \"font-weight: bold; text-align: right;\">4</td><td style = \"text-align: right;\">5.13457</td><td style = \"text-align: right;\">3.0</td></tr><tr><td class = \"rowNumber\" style = \"font-weight: bold; text-align: right;\">5</td><td style = \"text-align: right;\">4.86095</td><td style = \"text-align: right;\">3.0</td></tr><tr><td class = \"rowNumber\" style = \"font-weight: bold; text-align: right;\">6</td><td style = \"text-align: right;\">8.26781</td><td style = \"text-align: right;\">3.0</td></tr><tr><td class = \"rowNumber\" style = \"font-weight: bold; text-align: right;\">7</td><td style = \"text-align: right;\">7.91908</td><td style = \"text-align: right;\">3.0</td></tr><tr><td class = \"rowNumber\" style = \"font-weight: bold; text-align: right;\">8</td><td style = \"text-align: right;\">5.68718</td><td style = \"text-align: right;\">3.0</td></tr><tr><td class = \"rowNumber\" style = \"font-weight: bold; text-align: right;\">9</td><td style = \"text-align: right;\">5.17213</td><td style = \"text-align: right;\">3.0</td></tr><tr><td class = \"rowNumber\" style = \"font-weight: bold; text-align: right;\">10</td><td style = \"text-align: right;\">8.29464</td><td style = \"text-align: right;\">3.0</td></tr><tr><td class = \"rowNumber\" style = \"font-weight: bold; text-align: right;\">11</td><td style = \"text-align: right;\">8.01028</td><td style = \"text-align: right;\">3.0</td></tr><tr><td class = \"rowNumber\" style = \"font-weight: bold; text-align: right;\">12</td><td style = \"text-align: right;\">5.86423</td><td style = \"text-align: right;\">3.0</td></tr><tr><td class = \"rowNumber\" style = \"font-weight: bold; text-align: right;\">13</td><td style = \"text-align: right;\">8.32683</td><td style = \"text-align: right;\">3.0</td></tr><tr><td style = \"text-align: right;\">&vellip;</td><td style = \"text-align: right;\">&vellip;</td><td style = \"text-align: right;\">&vellip;</td></tr><tr><td class = \"rowNumber\" style = \"font-weight: bold; text-align: right;\">49</td><td style = \"text-align: right;\">4.99508</td><td style = \"text-align: right;\">199.0</td></tr><tr><td class = \"rowNumber\" style = \"font-weight: bold; text-align: right;\">50</td><td style = \"text-align: right;\">4.72682</td><td style = \"text-align: right;\">199.0</td></tr><tr><td class = \"rowNumber\" style = \"font-weight: bold; text-align: right;\">51</td><td style = \"text-align: right;\">8.23025</td><td style = \"text-align: right;\">199.0</td></tr><tr><td class = \"rowNumber\" style = \"font-weight: bold; text-align: right;\">52</td><td style = \"text-align: right;\">7.68301</td><td style = \"text-align: right;\">199.0</td></tr><tr><td class = \"rowNumber\" style = \"font-weight: bold; text-align: right;\">53</td><td style = \"text-align: right;\">5.45648</td><td style = \"text-align: right;\">199.0</td></tr><tr><td class = \"rowNumber\" style = \"font-weight: bold; text-align: right;\">54</td><td style = \"text-align: right;\">5.00045</td><td style = \"text-align: right;\">199.0</td></tr><tr><td class = \"rowNumber\" style = \"font-weight: bold; text-align: right;\">55</td><td style = \"text-align: right;\">8.24098</td><td style = \"text-align: right;\">199.0</td></tr><tr><td class = \"rowNumber\" style = \"font-weight: bold; text-align: right;\">56</td><td style = \"text-align: right;\">7.76885</td><td style = \"text-align: right;\">199.0</td></tr><tr><td class = \"rowNumber\" style = \"font-weight: bold; text-align: right;\">57</td><td style = \"text-align: right;\">5.53159</td><td style = \"text-align: right;\">199.0</td></tr><tr><td class = \"rowNumber\" style = \"font-weight: bold; text-align: right;\">58</td><td style = \"text-align: right;\">8.26245</td><td style = \"text-align: right;\">199.0</td></tr><tr><td class = \"rowNumber\" style = \"font-weight: bold; text-align: right;\">59</td><td style = \"text-align: right;\">7.87079</td><td style = \"text-align: right;\">199.0</td></tr><tr><td class = \"rowNumber\" style = \"font-weight: bold; text-align: right;\">60</td><td style = \"text-align: right;\">8.28391</td><td style = \"text-align: right;\">199.0</td></tr></tbody></table></div>"
      ],
      "text/latex": [
       "\\begin{tabular}{r|cc}\n",
       "\t& new\\_ts & real\\_t\\\\\n",
       "\t\\hline\n",
       "\t& Float64 & Float64\\\\\n",
       "\t\\hline\n",
       "\t1 & 8.27318 & 3.0 \\\\\n",
       "\t2 & 7.88152 & 3.0 \\\\\n",
       "\t3 & 5.66036 & 3.0 \\\\\n",
       "\t4 & 5.13457 & 3.0 \\\\\n",
       "\t5 & 4.86095 & 3.0 \\\\\n",
       "\t6 & 8.26781 & 3.0 \\\\\n",
       "\t7 & 7.91908 & 3.0 \\\\\n",
       "\t8 & 5.68718 & 3.0 \\\\\n",
       "\t9 & 5.17213 & 3.0 \\\\\n",
       "\t10 & 8.29464 & 3.0 \\\\\n",
       "\t11 & 8.01028 & 3.0 \\\\\n",
       "\t12 & 5.86423 & 3.0 \\\\\n",
       "\t13 & 8.32683 & 3.0 \\\\\n",
       "\t14 & 8.09613 & 3.0 \\\\\n",
       "\t15 & 8.36438 & 3.0 \\\\\n",
       "\t16 & 8.27854 & 5.66667 \\\\\n",
       "\t17 & 7.89225 & 5.66667 \\\\\n",
       "\t18 & 5.66036 & 5.66667 \\\\\n",
       "\t19 & 5.13994 & 5.66667 \\\\\n",
       "\t20 & 4.87168 & 5.66667 \\\\\n",
       "\t21 & 8.27318 & 5.66667 \\\\\n",
       "\t22 & 7.92981 & 5.66667 \\\\\n",
       "\t23 & 5.68718 & 5.66667 \\\\\n",
       "\t24 & 5.18286 & 5.66667 \\\\\n",
       "\t25 & 8.3 & 5.66667 \\\\\n",
       "\t26 & 8.02638 & 5.66667 \\\\\n",
       "\t27 & 5.86423 & 5.66667 \\\\\n",
       "\t28 & 8.33219 & 5.66667 \\\\\n",
       "\t29 & 8.11222 & 5.66667 \\\\\n",
       "\t30 & 8.36975 & 5.66667 \\\\\n",
       "\t$\\dots$ & $\\dots$ & $\\dots$ \\\\\n",
       "\\end{tabular}\n"
      ],
      "text/plain": [
       "\u001b[1m60×2 DataFrame\u001b[0m\n",
       "\u001b[1m Row \u001b[0m│\u001b[1m new_ts  \u001b[0m\u001b[1m real_t  \u001b[0m\n",
       "     │\u001b[90m Float64 \u001b[0m\u001b[90m Float64 \u001b[0m\n",
       "─────┼──────────────────\n",
       "   1 │ 8.27318      3.0\n",
       "   2 │ 7.88152      3.0\n",
       "   3 │ 5.66036      3.0\n",
       "   4 │ 5.13457      3.0\n",
       "   5 │ 4.86095      3.0\n",
       "   6 │ 8.26781      3.0\n",
       "   7 │ 7.91908      3.0\n",
       "   8 │ 5.68718      3.0\n",
       "   9 │ 5.17213      3.0\n",
       "  10 │ 8.29464      3.0\n",
       "  11 │ 8.01028      3.0\n",
       "  ⋮  │    ⋮        ⋮\n",
       "  51 │ 8.23025    199.0\n",
       "  52 │ 7.68301    199.0\n",
       "  53 │ 5.45648    199.0\n",
       "  54 │ 5.00045    199.0\n",
       "  55 │ 8.24098    199.0\n",
       "  56 │ 7.76885    199.0\n",
       "  57 │ 5.53159    199.0\n",
       "  58 │ 8.26245    199.0\n",
       "  59 │ 7.87079    199.0\n",
       "  60 │ 8.28391    199.0\n",
       "\u001b[36m         39 rows omitted\u001b[0m"
      ]
     },
     "execution_count": 222,
     "metadata": {},
     "output_type": "execute_result"
    }
   ],
   "source": [
    "for a in poss_as\n",
    "    println(a)\n",
    "    start_time = time()\n",
    "    c = 4\n",
    "    M_upper_bound = steps\n",
    "    \n",
    "    acf = dict[string(a)]\n",
    "    \n",
    "    m = sokal(acf, c)\n",
    "    m_suggest = calc_t_int(m, acf)\n",
    "    println(m)\n",
    "    \n",
    "    #stop_search = findfirst(x -> x <= 0, acf)\n",
    "    #stop_search = stop_search_index !== nothing ? 1.5 * stop_search_index : length(acf)\n",
    "    stop_search = m\n",
    "    \n",
    "    n = 3\n",
    "    #stop_search = 100\n",
    "    stop_search = stop_search < 10 ? 10 : stop_search\n",
    "    \n",
    "    y = get_log(acf)[1:stop_search]\n",
    "    x = collect(0:(stop_search-1))\n",
    "    lim = length(y)\n",
    "    results_ar1 = desh_method(x, y, lim, n)\n",
    "    \n",
    "    for p in poss_ps\n",
    "        for q in poss_qs\n",
    "            if p <= q\n",
    "                exp_m = 1 + 2 * (a / (1 - a))\n",
    "                \n",
    "                push!(real_m, exp_m)\n",
    "                push!(old_ms, m_suggest)\n",
    "                \n",
    "                new_weights = get_desh_weights(results_ar1, p, q)\n",
    "                vars_ar1 = get_slopes_sides(results_ar1, new_weights)\n",
    "                \n",
    "                idx = vars_ar1.x[findmax(vars_ar1.density)[2]]\n",
    "                #display(plot(vars_ar1.x, vars_ar1.density))\n",
    "                \n",
    "                push!(ps, p)\n",
    "                push!(qs, q)\n",
    "                push!(as, a)\n",
    "                push!(new_ts, idx)\n",
    "                push!(real_t, exp_m)\n",
    "            end\n",
    "        end\n",
    "    end\n",
    "\n",
    "    # let p = 1 and q = 3\n",
    "    end_time = time()\n",
    "    println(end_time - start_time)\n",
    "end\n",
    "\n",
    "results = DataFrame(\"new_ts\" => new_ts, \"real_t\" => real_t, \"a\" => as, \"p\" => ps, \"qs\"=>qs)\n",
    "results"
   ]
  },
  {
   "cell_type": "code",
   "execution_count": null,
   "id": "d14c573b-3f15-47b2-ac7a-c830398685a4",
   "metadata": {},
   "outputs": [],
   "source": []
  }
 ],
 "metadata": {
  "kernelspec": {
   "display_name": "Julia 1.10.4",
   "language": "julia",
   "name": "julia-1.10"
  },
  "language_info": {
   "file_extension": ".jl",
   "mimetype": "application/julia",
   "name": "julia",
   "version": "1.10.4"
  }
 },
 "nbformat": 4,
 "nbformat_minor": 5
}
