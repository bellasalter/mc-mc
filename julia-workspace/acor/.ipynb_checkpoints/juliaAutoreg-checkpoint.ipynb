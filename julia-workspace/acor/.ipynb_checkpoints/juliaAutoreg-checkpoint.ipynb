{
 "cells": [
  {
   "cell_type": "code",
   "execution_count": 194,
   "id": "8f641485-7fb3-4c76-ba96-77cceb0f7de3",
   "metadata": {},
   "outputs": [
    {
     "name": "stdout",
     "output_type": "stream",
     "text": [
      "make: Nothing to be done for `all'.\n"
     ]
    },
    {
     "name": "stderr",
     "output_type": "stream",
     "text": [
      "WARNING: replacing module Acor.\n",
      "\u001b[32m\u001b[1m   Resolving\u001b[22m\u001b[39m package versions...\n",
      "\u001b[32m\u001b[1m  No Changes\u001b[22m\u001b[39m to `~/.julia/environments/v1.10/Project.toml`\n",
      "\u001b[32m\u001b[1m  No Changes\u001b[22m\u001b[39m to `~/.julia/environments/v1.10/Manifest.toml`\n"
     ]
    }
   ],
   "source": [
    "include(\"Acor.jl\")\n",
    "include(\"generic.jl\")\n",
    "include(\"deshMethod.jl\")\n",
    "import Pkg\n",
    "#using .Acor\n",
    "using Pkg\n",
    "using IJulia\n",
    "using Distributions\n",
    "using Statistics\n",
    "using Dates\n",
    "using GLM\n",
    "using LinearAlgebra\n",
    "using DataFrames\n",
    "using Plots\n",
    "Pkg.add(\"StatsPlots\")\n",
    "using StatsPlots"
   ]
  },
  {
   "cell_type": "code",
   "execution_count": 111,
   "id": "5d0e375a-803c-4948-a9fd-5f9da4db35b5",
   "metadata": {},
   "outputs": [
    {
     "data": {
      "text/plain": [
       "10000-element Vector{Float64}:\n",
       " -13.096783108408719\n",
       " -11.664948251361167\n",
       " -10.128086351366578\n",
       "  -9.086278824944417\n",
       "  -6.520131370554498\n",
       "  -5.724323353454139\n",
       "  -4.40910607102806\n",
       "  -3.4731702627508296\n",
       "  -4.517215584894117\n",
       "  -5.553840452919297\n",
       "  -5.725614478378374\n",
       "  -8.875649835546252\n",
       "  -8.688405926647205\n",
       "   ⋮\n",
       "  -2.5247327427669544\n",
       "   0.36658875894065046\n",
       "   2.0903869895015728\n",
       "   2.8792356830447328\n",
       "   2.96081414509123\n",
       "   0.10125732135746546\n",
       "  -1.7261735316676616\n",
       "  -1.6194945432098968\n",
       "  -4.61330852475577\n",
       "  -3.045351563372992\n",
       "  -3.654540042236536\n",
       "  -3.0584392337679347"
      ]
     },
     "execution_count": 111,
     "metadata": {},
     "output_type": "execute_result"
    }
   ],
   "source": [
    "# Generates the path with steps number of steps. \n",
    "# autoreg parameters\n",
    "a = 0.9\n",
    "b = 2\n",
    "steps = 10000\n",
    "\n",
    "function get_next_step(previous::Float64) \n",
    "    w = rand(Normal(0,1))\n",
    "    next_val = (a * previous) + (b * w)\n",
    "end\n",
    "\n",
    "function get_init_state() \n",
    "    init_sd = b^2 / (1-a^2)\n",
    "    init_state = rand(Normal(0,init_sd))\n",
    "end\n",
    "\n",
    "function asim(start_state, step_function, iters = 1000) \n",
    "    curr_state = start_state\n",
    "    path = Float64[]\n",
    "    for i in 1:iters \n",
    "        path = push!(path,curr_state)\n",
    "        curr_state = step_function(curr_state)\n",
    "    end\n",
    "    return path\n",
    "end\n",
    "\n",
    "start_state = get_init_state()\n",
    "visited = asim(start_state, get_next_step, steps)"
   ]
  },
  {
   "cell_type": "code",
   "execution_count": 185,
   "id": "54ba851b-d7ab-4f10-9114-b3f33f2a329c",
   "metadata": {},
   "outputs": [
    {
     "data": {
      "text/plain": [
       "500-element Vector{Float64}:\n",
       "  5.2259081362559945\n",
       "  2.662890747595167\n",
       "  1.4249611715527812\n",
       "  0.6536013179212864\n",
       "  0.298797478555221\n",
       "  0.1437901232627319\n",
       "  0.051132053364117296\n",
       " -0.6171489324881831\n",
       " -0.5876282174704631\n",
       " -0.3683615052093735\n",
       " -0.4842275372337799\n",
       " -0.25653766721979\n",
       " -0.41091515461400474\n",
       "  ⋮\n",
       " -1.305813742126524\n",
       " -0.817452092599028\n",
       "  0.8680457099369394\n",
       "  0.3332914338248708\n",
       "  0.7385809561398726\n",
       "  0.11636039051950395\n",
       " -0.6992757167967675\n",
       "  7.242341690587214\n",
       " 12.95332074309674\n",
       " 18.342447360753606\n",
       "  8.830140653757784\n",
       " 29.3162277310911"
      ]
     },
     "execution_count": 185,
     "metadata": {},
     "output_type": "execute_result"
    }
   ],
   "source": [
    "\n",
    "visited_r = [11.378341,  3.040293,  3.706131,  3.588657,  3.421660,  3.064727,  3.174517,  0.847108,  -1.395752,  0.718080,  -2.704352,  3.390866,  0.944065,  2.779217,  4.067337,  3.519367,  -0.094823,  0.388568,  -1.827668,  -3.042912,  -1.094485,  -3.644110,  -1.424836,  -0.277401,  0.494308,  2.007819,  4.362086,  2.486124,  2.131275,  1.978374,  -0.352042,  4.466295,  1.632811,  0.771412,  1.972535,  -0.126209,  2.230477,  -1.852793,  -1.337260,  -4.690331,  -3.832333,  -6.502391,  -2.160378,  -1.405794,  -2.718718,  -1.042092,  -0.098979,  -0.937486,  4.163309,  1.377714,  0.496870,  6.800749,  3.926455,  1.400369,  -0.849084,  -0.776672,  -1.409006,  1.728938,  1.662058,  0.155285,  -0.421378,  1.772747,  0.465379,  3.680226,  0.417466,  -2.880221,  -2.484564,  -2.637797,  -1.022173,  0.577757,  2.251230,  1.673508,  -0.554246,  -2.092451,  2.125081,  1.140282,  3.112025,  -0.244654,  0.616736,  0.038348,  -0.355488,  -1.284048,  3.014388,  0.932782,  -1.210358,  -1.186377,  -2.624676,  0.121786,  1.229045,  1.434224,  0.024051,  -0.646681,  2.226605,  0.362629,  -1.906989,  -1.317787,  0.556849,  -1.571179,  -0.292050,  -2.683503,  -2.000856,  0.845084,  2.795982,  -1.441120,  1.211257,  0.188163,  -0.292840,  3.227452,  2.415480,  1.777019,  5.313849,  5.630902,  1.133262,  -0.525914,  -1.003111,  1.354529,  -1.352884,  -2.842661,  -3.487254,  -2.118890,  -1.067243,  -1.665634,  -1.363842,  -2.738528,  -2.671683,  -6.520950,  -7.281749,  -2.742884,  -0.831922,  -0.688468,  0.066424,  -2.826158,  -2.947764,  0.495339,  2.412842,  4.937783,  2.821254,  2.062389,  1.238183,  1.129345,  -0.999576,  -2.700321,  -1.675815,  -1.274616,  -1.285078,  0.784333,  -3.927483,  -2.622385,  4.928704,  0.812072,  -3.219465,  0.684847,  -2.005943,  -0.384814,  -1.223692,  -3.700130,  -0.455241,  -1.206743,  0.367551,  -0.201023,  -0.007453,  0.026854,  -0.718382,  -0.425401,  -2.308679,  0.821271,  -0.750079,  -3.674096,  -4.058858,  -3.835231,  -3.305118,  -1.839807,  -0.329584,  -2.365288,  0.681738,  1.612095,  2.483934,  1.656414,  -0.878588,  4.728422,  5.889455,  2.014231,  -2.112266,  -2.770310,  -1.588914,  -2.798695,  -3.152053,  -2.773792,  -4.179750,  -1.551558,  -2.834895,  0.235010,  -0.221709,  3.064623,  1.314762,  0.935419,  4.378133,  2.258582,  0.054366,  -0.920758,  0.861197,  -0.574517,  -2.648932,  -4.369070,  -2.189434,  -2.335663,  -2.420608,  0.400181,  1.737208,  0.786617,  -0.628150,  -1.218251,  -0.756532,  -3.691516,  -2.626300,  -0.283104,  -1.833515,  -4.029973,  -2.586565,  -2.460349,  -4.040648,  -0.996955,  -3.605295,  0.206397,  5.138270,  4.089175,  -0.309864,  -2.810026,  -3.223237,  -1.698918,  1.639875,  1.085591,  3.033963,  -1.304007,  1.701253,  1.653939,  -0.308857,  -3.692879,  -2.913405,  -3.666859,  -2.197791,  0.281296,  -2.398347,  -2.526655,  3.945452,  1.535984,  -0.119229,  -2.911145,  -3.197195,  -1.585812,  2.317505,  5.158949,  3.413559,  -0.240485,  0.689511,  0.356599,  -0.202196,  -1.114063,  -1.547902,  -1.160084,  -1.056670,  -3.828548,  -2.547069,  -4.502648,  -2.907504,  -1.310874,  4.631950,  -1.511231,  -1.971401,  -1.214069,  3.268409,  0.278045,  0.170430,  -0.336658,  -1.600089,  -0.572713,  0.129522,  -0.464857,  -1.222380,  2.840002,  2.369692,  -0.417577,  -1.729781,  -0.671897,  3.705293,  5.777231,  3.839074,  -0.489422,  -0.857859,  -0.773535,  1.237963,  -0.834289,  -2.081447,  -1.883261,  -0.353593,  -1.304470,  -1.937729,  -2.081619,  -3.287051,  -5.828677,  -0.891509,  -1.934984,  -1.941322,  -1.697572,  -3.503398,  0.512871,  0.451045,  0.889691,  -1.330297,  -2.312377,  -4.154192,  -1.305363,  -0.066610,  0.188237,  -2.136456,  1.243700,  2.698978,  -1.485858,  -0.165999,  -1.480483,  -2.393581,  -2.731521,  -1.902711,  -2.257191,  0.248490,  -0.473512,  -2.802859,  -0.867159,  -1.690381,  0.967874,  -1.964625,  0.793579,  -0.062690,  0.237001,  -0.744234,  -3.829206,  -3.186686,  -1.467142,  -0.852352,  -0.021884,  -2.549461,  -3.011259,  0.208945,  -1.158407,  0.869028,  -1.412091,  -3.183378,  -3.233046,  -0.621595,  -1.459713,  -1.753830,  -1.865799,  -3.092901,  0.294382,  -0.474378,  0.369187,  1.662152,  -2.054878,  -2.515980,  -5.508581,  -1.691005,  -1.210542,  -0.025705,  -1.557030,  0.195213,  -0.549641,  -1.429857,  -1.424288,  0.991952,  -1.466638,  0.957783,  -1.416549,  -1.449250,  -1.545134,  -0.718451,  -1.903007,  -1.908329,  -2.408986,  2.349377,  3.365100,  1.280189,  1.212727,  -1.154752,  -3.334045,  -3.645570,  -3.384066,  -4.674558,  -3.314515,  -1.742915,  -0.359059,  0.662300,  1.573470,  1.596316,  1.930976,  -0.085472,  1.560787,  0.323831,  0.382609,  1.489161,  6.089230,  2.940107,  3.320983,  1.288239,  0.492679,  -1.806158,  -1.366976,  -1.675481,  1.023294,  -3.297425,  -3.540330,  -1.002935,  -1.319127,  -1.397775,  -0.792731,  0.150515,  4.102507,  1.164407,  1.946659,  1.526176,  -1.579594,  0.178168,  -0.571845,  -0.673870,  0.089257,  0.493644,  -1.526070,  0.711049,  2.091975,  1.098557,  1.978711,  0.033931,  -1.824653,  -0.277458,  3.887078,  3.344669,  0.929701,  -1.403732,  -0.014149,  -1.225462,  -0.268758,  -1.819939,  -1.545964,  0.745513,  -1.296821,  0.195932,  0.825816,  -0.712194,  -0.192826,  -0.265903,  -2.018242,  0.074214,  -5.598337,  -0.545882,  -0.916416,  -3.801836,  -2.848631,  -1.377065,  0.620555,  1.663332,  1.099970,  -0.263556,  2.007162,  -0.384639,  -0.978788,  -0.580249,  -1.989884,  -0.610183,  0.309995,  0.819423,  -1.496016,  1.021174,  -1.812085,  -2.194982,  -1.527749,  0.842662,  -1.386355,  4.504201,  1.638779,  1.005223,  -2.216705,  -3.398413,  -2.769686,  -0.465798,  -1.732311,  0.345536,  -0.403948,  0.528924,  -0.584878,  -1.642822,  0.527797,  0.787371,  0.091378,  -0.433261,  -2.240111,  -3.706250,  -0.217036,  1.930878,  3.264766,  0.444820,  2.161154]\n",
    "calc_acfs = c_est_series(visited_r)"
   ]
  },
  {
   "cell_type": "code",
   "execution_count": 186,
   "id": "937d1cc2-4505-41e7-9226-29008d6f6b4f",
   "metadata": {},
   "outputs": [
    {
     "name": "stdout",
     "output_type": "stream",
     "text": [
      "2.3851810946605716\n"
     ]
    },
    {
     "data": {
      "text/plain": [
       "3.0"
      ]
     },
     "execution_count": 186,
     "metadata": {},
     "output_type": "execute_result"
    }
   ],
   "source": [
    "M = sokal(calc_acfs, 5)\n",
    "println(calc_t_int(M, calc_acfs))\n",
    "exp_m = 1 + 2*(0.5/(1-0.5))\n",
    "exp_m"
   ]
  },
  {
   "cell_type": "code",
   "execution_count": 187,
   "id": "f92307ee-0bef-4d2b-9373-961cb451962b",
   "metadata": {},
   "outputs": [
    {
     "name": "stdout",
     "output_type": "stream",
     "text": [
      "-0.0027823865092602225\n",
      "(mean = -0.002782386509260232, sigma = 0.0111586297245411, tau = 0.11213357763512914, status = 0)\n",
      "0.0001991890749537319\n",
      "(mean = 0.0001991890749537051, sigma = 0.009711053402465334, tau = 0.08498052589699863, status = 0)\n",
      "-0.013949769206052252\n",
      "(mean = -0.013949769206052136, sigma = 0.010261515771619037, tau = 0.09724086531950589, status = 0)\n",
      "-0.009227702775613076\n",
      "(mean = -0.00922770277561304, sigma = 0.008787249324401593, tau = 0.0713437427570043, status = 0)\n",
      "0.022376153380056506\n",
      "(mean = 0.02237615338005649, sigma = 0.01125367895605487, tau = 0.11296264165057916, status = 0)\n",
      "-0.011976710562705363\n",
      "(mean = -0.0119767105627053, sigma = 0.013376690511228733, tau = 0.16061309018542905, status = 0)\n",
      "-0.0032164667497843274\n",
      "(mean = -0.0032164667497843525, sigma = 0.008779867375972033, tau = 0.07088971724821351, status = 0)\n",
      "-0.00027165221523624153\n",
      "(mean = -0.0002716522152362163, sigma = 0.008358601190068541, tau = 0.06215221024681051, status = 0)\n",
      "0.013756731954932664\n",
      "(mean = 0.013756731954932726, sigma = 0.007894542027510559, tau = 0.057089753479175685, status = 0)\n",
      "0.00931911299195018\n",
      "(mean = 0.009319112991950212, sigma = 0.011035589305340696, tau = 0.11354844380417341, status = 0)\n",
      "[0.11213357763512914, 0.08498052589699863, 0.09724086531950589, 0.0713437427570043, 0.11296264165057916, 0.16061309018542905, 0.07088971724821351, 0.06215221024681051, 0.057089753479175685, 0.11354844380417341]\n",
      "[0.20288814209726447, 0.1968766354499485, 0.20813350616934878, 0.203392330582143, 0.20415312690131293, 0.19613027913136505, 0.20758897578933377, 0.19644530083877587, 0.19608033041313966, 0.2021216699504137]\n"
     ]
    },
    {
     "data": {
      "text/plain": [
       "0.11111111111111105"
      ]
     },
     "execution_count": 187,
     "metadata": {},
     "output_type": "execute_result"
    }
   ],
   "source": [
    "# for comparison between acor values and my values\n",
    "my_time_sokal = Float64[]\n",
    "acor_time = Float64[]\n",
    "\n",
    "a= -0.8\n",
    "for i in 1:10\n",
    "    start_state = get_init_state()\n",
    "    visited = asim(start_state, get_next_step, steps)\n",
    "    calc_acfs = c_est_series(visited)\n",
    "    println(mean(visited))\n",
    "    maxLag = 100\n",
    "    acor_sugg = Acor.acor(visited, maxLag)\n",
    "    println(acor_sugg)\n",
    "    acor_time = push!(acor_time, acor_sugg.tau)\n",
    "    M = sokal(calc_acfs, 10)\n",
    "    my_est = calc_t_int(M, calc_acfs)\n",
    "    my_time_sokal = push!(my_time_sokal, my_est)\n",
    "end\n",
    "\n",
    "true_time = 1 + 2*(a/(1-a))\n",
    "println(acor_time)\n",
    "println(my_time_sokal)\n",
    "1 + 2*((-0.8)/(1+0.8))"
   ]
  },
  {
   "cell_type": "code",
   "execution_count": 171,
   "id": "6f67a675-5878-4170-ad8e-23f7ebb49691",
   "metadata": {},
   "outputs": [
    {
     "data": {
      "text/plain": [
       "get_log (generic function with 1 method)"
      ]
     },
     "execution_count": 171,
     "metadata": {},
     "output_type": "execute_result"
    }
   ],
   "source": []
  },
  {
   "cell_type": "code",
   "execution_count": 213,
   "id": "ab427bcf-8b16-46a2-b17e-f492bb1cc1b8",
   "metadata": {},
   "outputs": [
    {
     "name": "stdout",
     "output_type": "stream",
     "text": [
      "0 milliseconds\n",
      "1 millisecond\n",
      "0 milliseconds\n",
      "0 milliseconds\n"
     ]
    }
   ],
   "source": [
    "# First, we get the simulations acfs\n",
    "poss_as = [0.5, 0.7, 0.9, 0.99]\n",
    "#poss_as = [-0.8]\n",
    "steps = 10000\n",
    "dict = Dict{String, Vector{Float64}}()\n",
    "\n",
    "for a in poss_as\n",
    "    states_visited = asim(get_init_state(), get_next_step, steps)\n",
    "    acf_df = c_est_series(states_visited)\n",
    "    dict[string(a)] = acf_df\n",
    "end\n",
    "\n",
    "old_ms = Float64[]\n",
    "new_ts = Float64[]\n",
    "ps = Int[]\n",
    "qs = Int[]\n",
    "as = Float64[]\n",
    "real_t = Float64[]\n",
    "rs = Float64[]\n",
    "results_ar1s = Vector{DataFrame}()\n",
    "poss_ps = [1, 2, 3, 4, 5]\n",
    "poss_qs = [1, 2, 3, 4, 5]\n",
    "poss_rs = [0]\n",
    "\n",
    "# Now, we do the method. \n",
    "for a in poss_as\n",
    "    acf = dict[string(a)]\n",
    "    \n",
    "    stop_search_index = findfirst(x -> x <= 0, acf)\n",
    "    \n",
    "    \n",
    "    if stop_search_index !== nothing\n",
    "        stop_search = 4 * stop_search_index\n",
    "    else\n",
    "        stop_search = length(acf)\n",
    "    end\n",
    "\n",
    "    n = 3\n",
    "    #stop_search = min(max(stop_search, 10), 500)\n",
    "    \n",
    "    y = get_log(acf)[1:stop_search]\n",
    "    x = collect(0:(stop_search-1))\n",
    "    lim = length(y)\n",
    "    \n",
    "    results_ar1 = desh_method(x, y, lim, n)\n",
    "    push!(results_ar1s, results_ar1)\n",
    "end"
   ]
  },
  {
   "cell_type": "code",
   "execution_count": 212,
   "id": "d25a7cdd-1b73-4f33-88e9-b276b9f3f388",
   "metadata": {},
   "outputs": [
    {
     "name": "stdout",
     "output_type": "stream",
     "text": [
      "0.5\n",
      "2\n",
      "1 millisecond\n",
      "0.2818160057067871\n",
      "0.7\n",
      "2\n",
      "1 millisecond\n",
      "0.27851200103759766\n",
      "0.9\n",
      "2\n",
      "1 millisecond\n",
      "0.28023505210876465\n",
      "0.99\n",
      "2\n",
      "1 millisecond\n",
      "0.28081512451171875\n"
     ]
    },
    {
     "data": {
      "text/html": [
       "<div><div style = \"float: left;\"><span>255×2 DataFrame</span></div><div style = \"float: right;\"><span style = \"font-style: italic;\">230 rows omitted</span></div><div style = \"clear: both;\"></div></div><div class = \"data-frame\" style = \"overflow-x: scroll;\"><table class = \"data-frame\" style = \"margin-bottom: 6px;\"><thead><tr class = \"header\"><th class = \"rowNumber\" style = \"font-weight: bold; text-align: right;\">Row</th><th style = \"text-align: left;\">new_ts</th><th style = \"text-align: left;\">real_t</th></tr><tr class = \"subheader headerLastRow\"><th class = \"rowNumber\" style = \"font-weight: bold; text-align: right;\"></th><th title = \"Float64\" style = \"text-align: left;\">Float64</th><th title = \"Float64\" style = \"text-align: left;\">Float64</th></tr></thead><tbody><tr><td class = \"rowNumber\" style = \"font-weight: bold; text-align: right;\">1</td><td style = \"text-align: right;\">8.27318</td><td style = \"text-align: right;\">3.0</td></tr><tr><td class = \"rowNumber\" style = \"font-weight: bold; text-align: right;\">2</td><td style = \"text-align: right;\">7.87616</td><td style = \"text-align: right;\">3.0</td></tr><tr><td class = \"rowNumber\" style = \"font-weight: bold; text-align: right;\">3</td><td style = \"text-align: right;\">5.67645</td><td style = \"text-align: right;\">3.0</td></tr><tr><td class = \"rowNumber\" style = \"font-weight: bold; text-align: right;\">4</td><td style = \"text-align: right;\">5.15067</td><td style = \"text-align: right;\">3.0</td></tr><tr><td class = \"rowNumber\" style = \"font-weight: bold; text-align: right;\">5</td><td style = \"text-align: right;\">4.88241</td><td style = \"text-align: right;\">3.0</td></tr><tr><td class = \"rowNumber\" style = \"font-weight: bold; text-align: right;\">6</td><td style = \"text-align: right;\">8.26781</td><td style = \"text-align: right;\">3.0</td></tr><tr><td class = \"rowNumber\" style = \"font-weight: bold; text-align: right;\">7</td><td style = \"text-align: right;\">7.90835</td><td style = \"text-align: right;\">3.0</td></tr><tr><td class = \"rowNumber\" style = \"font-weight: bold; text-align: right;\">8</td><td style = \"text-align: right;\">5.71401</td><td style = \"text-align: right;\">3.0</td></tr><tr><td class = \"rowNumber\" style = \"font-weight: bold; text-align: right;\">9</td><td style = \"text-align: right;\">5.19896</td><td style = \"text-align: right;\">3.0</td></tr><tr><td class = \"rowNumber\" style = \"font-weight: bold; text-align: right;\">10</td><td style = \"text-align: right;\">8.28927</td><td style = \"text-align: right;\">3.0</td></tr><tr><td class = \"rowNumber\" style = \"font-weight: bold; text-align: right;\">11</td><td style = \"text-align: right;\">7.99955</td><td style = \"text-align: right;\">3.0</td></tr><tr><td class = \"rowNumber\" style = \"font-weight: bold; text-align: right;\">12</td><td style = \"text-align: right;\">5.90179</td><td style = \"text-align: right;\">3.0</td></tr><tr><td class = \"rowNumber\" style = \"font-weight: bold; text-align: right;\">13</td><td style = \"text-align: right;\">8.32146</td><td style = \"text-align: right;\">3.0</td></tr><tr><td style = \"text-align: right;\">&vellip;</td><td style = \"text-align: right;\">&vellip;</td><td style = \"text-align: right;\">&vellip;</td></tr><tr><td class = \"rowNumber\" style = \"font-weight: bold; text-align: right;\">244</td><td style = \"text-align: right;\">5.07019</td><td style = \"text-align: right;\">199.0</td></tr><tr><td class = \"rowNumber\" style = \"font-weight: bold; text-align: right;\">245</td><td style = \"text-align: right;\">4.80194</td><td style = \"text-align: right;\">199.0</td></tr><tr><td class = \"rowNumber\" style = \"font-weight: bold; text-align: right;\">246</td><td style = \"text-align: right;\">8.26781</td><td style = \"text-align: right;\">199.0</td></tr><tr><td class = \"rowNumber\" style = \"font-weight: bold; text-align: right;\">247</td><td style = \"text-align: right;\">7.90298</td><td style = \"text-align: right;\">199.0</td></tr><tr><td class = \"rowNumber\" style = \"font-weight: bold; text-align: right;\">248</td><td style = \"text-align: right;\">5.57988</td><td style = \"text-align: right;\">199.0</td></tr><tr><td class = \"rowNumber\" style = \"font-weight: bold; text-align: right;\">249</td><td style = \"text-align: right;\">5.09702</td><td style = \"text-align: right;\">199.0</td></tr><tr><td class = \"rowNumber\" style = \"font-weight: bold; text-align: right;\">250</td><td style = \"text-align: right;\">8.28927</td><td style = \"text-align: right;\">199.0</td></tr><tr><td class = \"rowNumber\" style = \"font-weight: bold; text-align: right;\">251</td><td style = \"text-align: right;\">7.99419</td><td style = \"text-align: right;\">199.0</td></tr><tr><td class = \"rowNumber\" style = \"font-weight: bold; text-align: right;\">252</td><td style = \"text-align: right;\">5.70864</td><td style = \"text-align: right;\">199.0</td></tr><tr><td class = \"rowNumber\" style = \"font-weight: bold; text-align: right;\">253</td><td style = \"text-align: right;\">8.32146</td><td style = \"text-align: right;\">199.0</td></tr><tr><td class = \"rowNumber\" style = \"font-weight: bold; text-align: right;\">254</td><td style = \"text-align: right;\">8.08003</td><td style = \"text-align: right;\">199.0</td></tr><tr><td class = \"rowNumber\" style = \"font-weight: bold; text-align: right;\">255</td><td style = \"text-align: right;\">8.35902</td><td style = \"text-align: right;\">199.0</td></tr></tbody></table></div>"
      ],
      "text/latex": [
       "\\begin{tabular}{r|cc}\n",
       "\t& new\\_ts & real\\_t\\\\\n",
       "\t\\hline\n",
       "\t& Float64 & Float64\\\\\n",
       "\t\\hline\n",
       "\t1 & 8.27318 & 3.0 \\\\\n",
       "\t2 & 7.87616 & 3.0 \\\\\n",
       "\t3 & 5.67645 & 3.0 \\\\\n",
       "\t4 & 5.15067 & 3.0 \\\\\n",
       "\t5 & 4.88241 & 3.0 \\\\\n",
       "\t6 & 8.26781 & 3.0 \\\\\n",
       "\t7 & 7.90835 & 3.0 \\\\\n",
       "\t8 & 5.71401 & 3.0 \\\\\n",
       "\t9 & 5.19896 & 3.0 \\\\\n",
       "\t10 & 8.28927 & 3.0 \\\\\n",
       "\t11 & 7.99955 & 3.0 \\\\\n",
       "\t12 & 5.90179 & 3.0 \\\\\n",
       "\t13 & 8.32146 & 3.0 \\\\\n",
       "\t14 & 8.0854 & 3.0 \\\\\n",
       "\t15 & 8.35902 & 3.0 \\\\\n",
       "\t16 & 8.27318 & 5.66667 \\\\\n",
       "\t17 & 7.84933 & 5.66667 \\\\\n",
       "\t18 & 5.59598 & 5.66667 \\\\\n",
       "\t19 & 5.10775 & 5.66667 \\\\\n",
       "\t20 & 4.85022 & 5.66667 \\\\\n",
       "\t21 & 8.26245 & 5.66667 \\\\\n",
       "\t22 & 7.87079 & 5.66667 \\\\\n",
       "\t23 & 5.60134 & 5.66667 \\\\\n",
       "\t24 & 5.13994 & 5.66667 \\\\\n",
       "\t25 & 8.28391 & 5.66667 \\\\\n",
       "\t26 & 7.96736 & 5.66667 \\\\\n",
       "\t27 & 5.71937 & 5.66667 \\\\\n",
       "\t28 & 8.3161 & 5.66667 \\\\\n",
       "\t29 & 8.05857 & 5.66667 \\\\\n",
       "\t30 & 8.34829 & 5.66667 \\\\\n",
       "\t$\\dots$ & $\\dots$ & $\\dots$ \\\\\n",
       "\\end{tabular}\n"
      ],
      "text/plain": [
       "\u001b[1m255×2 DataFrame\u001b[0m\n",
       "\u001b[1m Row \u001b[0m│\u001b[1m new_ts  \u001b[0m\u001b[1m real_t  \u001b[0m\n",
       "     │\u001b[90m Float64 \u001b[0m\u001b[90m Float64 \u001b[0m\n",
       "─────┼──────────────────\n",
       "   1 │ 8.27318      3.0\n",
       "   2 │ 7.87616      3.0\n",
       "   3 │ 5.67645      3.0\n",
       "   4 │ 5.15067      3.0\n",
       "   5 │ 4.88241      3.0\n",
       "   6 │ 8.26781      3.0\n",
       "   7 │ 7.90835      3.0\n",
       "   8 │ 5.71401      3.0\n",
       "   9 │ 5.19896      3.0\n",
       "  10 │ 8.28927      3.0\n",
       "  11 │ 7.99955      3.0\n",
       "  ⋮  │    ⋮        ⋮\n",
       " 246 │ 8.26781    199.0\n",
       " 247 │ 7.90298    199.0\n",
       " 248 │ 5.57988    199.0\n",
       " 249 │ 5.09702    199.0\n",
       " 250 │ 8.28927    199.0\n",
       " 251 │ 7.99419    199.0\n",
       " 252 │ 5.70864    199.0\n",
       " 253 │ 8.32146    199.0\n",
       " 254 │ 8.08003    199.0\n",
       " 255 │ 8.35902    199.0\n",
       "\u001b[36m        234 rows omitted\u001b[0m"
      ]
     },
     "execution_count": 212,
     "metadata": {},
     "output_type": "execute_result"
    }
   ],
   "source": [
    "for a in poss_as\n",
    "    println(a)\n",
    "    start_time = time()\n",
    "    c = 4\n",
    "    M_upper_bound = steps\n",
    "    \n",
    "    acf = dict[string(a)]\n",
    "    \n",
    "    m = sokal(acf, c)\n",
    "    m_suggest = calc_t_int(m, acf)\n",
    "    println(m)\n",
    "    \n",
    "    #stop_search = findfirst(x -> x <= 0, acf)\n",
    "    #stop_search = stop_search_index !== nothing ? 1.5 * stop_search_index : length(acf)\n",
    "    stop_search = m\n",
    "    \n",
    "    n = 3\n",
    "    #stop_search = 100\n",
    "    stop_search = stop_search < 10 ? 10 : stop_search\n",
    "    \n",
    "    y = get_log(acf)[1:stop_search]\n",
    "    x = collect(0:(stop_search-1))\n",
    "    lim = length(y)\n",
    "    results_ar1 = desh_method(x, y, lim, n)\n",
    "    \n",
    "    for p in poss_ps\n",
    "        for q in poss_qs\n",
    "            if p <= q\n",
    "                exp_m = 1 + 2 * (a / (1 - a))\n",
    "                \n",
    "                push!(real_m, exp_m)\n",
    "                push!(old_ms, m_suggest)\n",
    "                \n",
    "                new_weights = get_desh_weights(results_ar1, p, q)\n",
    "                vars_ar1 = get_slopes_sides(results_ar1, new_weights)\n",
    "                \n",
    "                #push!(new_ms, vars_ar1.best_rhs)\n",
    "                #println(vars_ar1)\n",
    "                #println(new_weights)\n",
    "                \n",
    "                idx = vars_ar1.x[findmax(vars_ar1.density)[2]]\n",
    "                #display(plot(vars_ar1.x, vars_ar1.density))\n",
    "                \n",
    "                push!(ps, p)\n",
    "                push!(qs, q)\n",
    "                push!(as, a)\n",
    "                push!(new_ts, idx)\n",
    "                push!(real_t, exp_m)\n",
    "            end\n",
    "        end\n",
    "    end\n",
    "\n",
    "    # let p = 1 and q = 3\n",
    "    end_time = time()\n",
    "    println(end_time - start_time)\n",
    "end\n",
    "\n",
    "results = DataFrame(\"new_ts\" => new_ts, \"real_t\" => real_t)\n",
    "results"
   ]
  },
  {
   "cell_type": "code",
   "execution_count": null,
   "id": "d14c573b-3f15-47b2-ac7a-c830398685a4",
   "metadata": {},
   "outputs": [],
   "source": []
  }
 ],
 "metadata": {
  "kernelspec": {
   "display_name": "Julia 1.10.4",
   "language": "julia",
   "name": "julia-1.10"
  },
  "language_info": {
   "file_extension": ".jl",
   "mimetype": "application/julia",
   "name": "julia",
   "version": "1.10.4"
  }
 },
 "nbformat": 4,
 "nbformat_minor": 5
}
