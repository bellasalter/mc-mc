{
 "cells": [
  {
   "cell_type": "markdown",
   "id": "388b5155-81e0-4104-9e76-dd60cc3a0e14",
   "metadata": {},
   "source": [
    "This jupyter notebook runs the autoreg-1 model."
   ]
  },
  {
   "cell_type": "code",
   "execution_count": null,
   "id": "577b4a91-88b9-4bb6-9a50-a631c0181aa2",
   "metadata": {},
   "outputs": [],
   "source": [
    "a = 0.75\n",
    "b = 2"
   ]
  },
  {
   "cell_type": "code",
   "execution_count": null,
   "id": "be86bb85-3a11-4e8c-acbb-5204b4be7894",
   "metadata": {},
   "outputs": [],
   "source": []
  }
 ],
 "metadata": {
  "kernelspec": {
   "display_name": "Julia 1.10.4",
   "language": "julia",
   "name": "julia-1.10"
  },
  "language_info": {
   "name": ""
  }
 },
 "nbformat": 4,
 "nbformat_minor": 5
}
